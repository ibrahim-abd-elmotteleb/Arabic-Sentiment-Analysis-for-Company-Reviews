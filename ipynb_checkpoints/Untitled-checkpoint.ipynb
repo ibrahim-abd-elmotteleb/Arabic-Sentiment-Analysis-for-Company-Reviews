{
 "cells": [
  {
   "cell_type": "code",
   "execution_count": 3,
   "id": "a68ed068-387e-46e3-b1ec-7a0e1f7e7134",
   "metadata": {},
   "outputs": [
    {
     "name": "stderr",
     "output_type": "stream",
     "text": [
      "<>:25: SyntaxWarning: invalid escape sequence '\\]'\n",
      "<>:25: SyntaxWarning: invalid escape sequence '\\]'\n",
      "C:\\Users\\khali\\AppData\\Local\\Temp\\ipykernel_5844\\1493393986.py:25: SyntaxWarning: invalid escape sequence '\\]'\n",
      "  lambda x: re.sub(r'[%s]' % re.escape(\"\"\"!\"#$%&'()*+,،-./:;<=>؟?@[\\]^_`{|}~؛\"\"\"), ' ', x)\n"
     ]
    },
    {
     "name": "stdout",
     "output_type": "stream",
     "text": [
      "              precision    recall  f1-score   support\n",
      "\n",
      "           0       0.83      0.81      0.82      2632\n",
      "           1       0.87      0.89      0.88      3837\n",
      "\n",
      "    accuracy                           0.86      6469\n",
      "   macro avg       0.85      0.85      0.85      6469\n",
      "weighted avg       0.86      0.86      0.86      6469\n",
      "\n",
      "Prediction Negative\n"
     ]
    }
   ],
   "source": [
    "# Imports\n",
    "import pandas as pd\n",
    "import numpy as np\n",
    "import matplotlib.pyplot as plt\n",
    "import re\n",
    "import emoji\n",
    "import ast\n",
    "import pickle\n",
    "from sklearn.linear_model import LogisticRegression\n",
    "from sklearn.model_selection import train_test_split\n",
    "from sklearn.metrics import classification_report\n",
    "from transformers import AutoTokenizer, AutoModel\n",
    "import torch\n",
    "\n",
    "# Load and clean data\n",
    "def wrangle_reviews(df):\n",
    "    # Clean data\n",
    "    df.drop(columns=[\"Unnamed: 0\"], errors='ignore', inplace=True)\n",
    "    df.drop_duplicates(subset=['review_description'], keep='first', inplace=True)\n",
    "    df.dropna(subset=['review_description'], inplace=True)\n",
    "    df.review_description = df.review_description.astype(str)\n",
    "\n",
    "    # Remove punctuation\n",
    "    df['review_description'] = df['review_description'].apply(\n",
    "        lambda x: re.sub(r'[%s]' % re.escape(\"\"\"!\"#$%&'()*+,،-./:;<=>؟?@[\\]^_`{|}~؛\"\"\"), ' ', x)\n",
    "    )\n",
    "\n",
    "    # Remove reviews with only emojis\n",
    "    def is_only_emoji(text):\n",
    "        text = str(text).strip()\n",
    "        return not text or emoji.replace_emoji(text, '').strip() == ''\n",
    "    df = df[~df['review_description'].apply(is_only_emoji)].reset_index(drop=True)\n",
    "\n",
    "    return df\n",
    "\n",
    "# Load data\n",
    "df_raw = pd.read_csv(\"../../data/embedded_dataset.csv\")\n",
    "df = wrangle_reviews(df_raw)\n",
    "\n",
    "# Convert string embeddings to list\n",
    "df['embedding-using-cls-MARBERT'] = df['embedding-using-cls-MARBERT'].apply(ast.literal_eval)\n",
    "\n",
    "# Prepare training data\n",
    "X = np.array(df['embedding-using-cls-MARBERT'].tolist())\n",
    "y = df['rating'].map({-1: 0, 1: 1})  # Binary classification\n",
    "\n",
    "# Train/test split\n",
    "X_train, X_test, y_train, y_test = train_test_split(X, y, test_size=0.2, random_state=42)\n",
    "\n",
    "# Train model\n",
    "model = LogisticRegression(max_iter=1000)\n",
    "model.fit(X_train, y_train)\n",
    "\n",
    "# Evaluate\n",
    "y_pred = model.predict(X_test)\n",
    "print(classification_report(y_test, y_pred))\n",
    "\n",
    "# Save model\n",
    "with open(\"trained_model.sav\", \"wb\") as f:\n",
    "    pickle.dump(model, f)\n",
    "\n",
    "# =============================\n",
    "# MARBERT embedding for new text\n",
    "# =============================\n",
    "\n",
    "# Load tokenizer & model once\n",
    "tokenizer = AutoTokenizer.from_pretrained(\"local_marbert/\")\n",
    "marbert = AutoModel.from_pretrained(\"local_marbert/\")\n",
    "\n"
   ]
  },
  {
   "cell_type": "code",
   "execution_count": 5,
   "id": "fac0dce9-6a76-4a20-aea1-40f77551660d",
   "metadata": {},
   "outputs": [
    {
     "name": "stdout",
     "output_type": "stream",
     "text": [
      "Prediction Negative\n"
     ]
    }
   ],
   "source": [
    "def embed_review(text):\n",
    "    inputs = tokenizer(text, return_tensors=\"pt\", truncation=True, padding=True, max_length=128)\n",
    "    with torch.no_grad():\n",
    "        outputs = marbert(**inputs)\n",
    "    cls_embedding = outputs.last_hidden_state[:, 0, :].squeeze().numpy()  # CLS token\n",
    "    return cls_embedding\n",
    "\n",
    "# Load model\n",
    "model = pickle.load(open(\"trained_model.sav\", \"rb\"))\n",
    "\n",
    "# New input\n",
    "new_review = \"خوش اكل\"\n",
    "new_embedding = embed_review(new_review).reshape(1, -1)  # Reshape for sklearn\n",
    "prediction = model.predict(new_embedding)\n",
    "\n",
    "# Output prediction\n",
    "print(\"Prediction\" , \"Postive\" if prediction[0]  == 1 else \"Negative\" )\n"
   ]
  }
 ],
 "metadata": {
  "kernelspec": {
   "display_name": "Python 3 (ipykernel)",
   "language": "python",
   "name": "python3"
  },
  "language_info": {
   "codemirror_mode": {
    "name": "ipython",
    "version": 3
   },
   "file_extension": ".py",
   "mimetype": "text/x-python",
   "name": "python",
   "nbconvert_exporter": "python",
   "pygments_lexer": "ipython3",
   "version": "3.12.7"
  }
 },
 "nbformat": 4,
 "nbformat_minor": 5
}
